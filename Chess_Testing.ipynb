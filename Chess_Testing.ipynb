{
  "nbformat": 4,
  "nbformat_minor": 0,
  "metadata": {
    "colab": {
      "name": "Chess Testing",
      "provenance": [],
      "collapsed_sections": []
    },
    "kernelspec": {
      "name": "python3",
      "display_name": "Python 3"
    },
    "accelerator": "GPU"
  },
  "cells": [
    {
      "cell_type": "code",
      "metadata": {
        "id": "uJDpqALgR5C7",
        "colab_type": "code",
        "outputId": "09d318ef-c7ed-4d9e-b3fe-e67aa9541b9f",
        "colab": {
          "base_uri": "https://localhost:8080/",
          "height": 51
        }
      },
      "source": [
        "import numpy as np\n",
        "import tensorflow as tf\n",
        "import chess\n",
        "import pandas as pd\n",
        "import io\n",
        "\n",
        "from tensorflow.keras.models import Sequential, Model\n",
        "from tensorflow.keras.layers import Dense, Conv2D, Flatten, Input \n",
        "from tensorflow.keras.models import load_model\n",
        "\n",
        "from keras import backend as K\n",
        "from tensorflow import keras\n",
        "\n",
        "from google.colab import drive\n",
        "drive.mount('/content/drive')"
      ],
      "execution_count": 1,
      "outputs": [
        {
          "output_type": "stream",
          "text": [
            "Drive already mounted at /content/drive; to attempt to forcibly remount, call drive.mount(\"/content/drive\", force_remount=True).\n"
          ],
          "name": "stdout"
        },
        {
          "output_type": "stream",
          "text": [
            "Using TensorFlow backend.\n"
          ],
          "name": "stderr"
        }
      ]
    },
    {
      "cell_type": "markdown",
      "metadata": {
        "id": "18xEksspmreA",
        "colab_type": "text"
      },
      "source": [
        "Helper Functions~~~"
      ]
    },
    {
      "cell_type": "code",
      "metadata": {
        "id": "wRhEQ_I3TXhk",
        "colab_type": "code",
        "colab": {}
      },
      "source": [
        "NUM_OUTPUTS = 5\n",
        "\n",
        "\n",
        "def get_mat(board, piece, color):\n",
        "  squareSet = board.pieces(piece, color)\n",
        "  return get_bin_mat(squareSet);\n",
        "\n",
        "def get_bin_mat(squareSet):\n",
        "  mat = np.zeros((8,8))\n",
        "  for x in range(0, 8):\n",
        "    for y in range(0, 8):\n",
        "        if(y*8 + x in squareSet):\n",
        "          # The 7 - is used to flip the board representation\n",
        "          mat[7 - y, x] = 1\n",
        "            \n",
        "  return mat\n",
        "\n",
        "\n",
        "def get_dual_bin_mat(piece):\n",
        "  whiteSquareSet = board.pieces(piece, chess.WHITE)\n",
        "  blackSquareSet = board.pieces(piece, chess.BLACK)\n",
        "  mat = np.zeros((8,8))\n",
        "  for x in range(0, 8):\n",
        "    for y in range(0, 8):\n",
        "        if(y*8 + x in whiteSquareSet):\n",
        "          # The 7 - is used to flip the board representation\n",
        "          mat[7 - y, x] = 1\n",
        "        elif(y*8 + x in blackSquareSet):\n",
        "          mat[7 - y, x] = -1\n",
        "            \n",
        "  return mat\n",
        "\n",
        "\n",
        "def interpret_pred(p):\n",
        "  \n",
        "#   moves = []\n",
        "#   for out in p:\n",
        "#     # There's an extra list wrapping for some reason\n",
        "#     out = out[0]\n",
        "#     start = np.argmax(out[:64])\n",
        "#     end = np.argmax(out[64:])\n",
        "       \n",
        "#     moves.append((chess.SQUARE_NAMES[start],\n",
        "#                   chess.SQUARE_NAMES[end]))\n",
        "    \n",
        "#   return moves\n",
        "\n",
        "  moves = []\n",
        "  for i,k in zip(p[0::2], p[1::2]):\n",
        "    i = i[0]\n",
        "    k = k[0]\n",
        "    \n",
        "    start = np.argmax(i)\n",
        "    end = np.argmax(k)\n",
        "       \n",
        "    moves.append((chess.SQUARE_NAMES[start],\n",
        "                  chess.SQUARE_NAMES[end]))\n",
        "  \n",
        "  return moves\n",
        "  \n",
        "\n",
        "def create_input(board):\n",
        "  if(board.turn):\n",
        "    turnMat = np.ones((8,8))\n",
        "  else:\n",
        "    turnMat = np.negative(np.ones((8,8)))\n",
        "  mat = np.array(([get_mat(board, i, chess.WHITE) for i in range(1,7)] + [get_mat(board, i, chess.BLACK) for i in range(1,7)] + [turnMat]))\n",
        "  y = mat.reshape((-1, 13, 8, 8))\n",
        "  return y\n",
        "\n",
        "def create_output(moves):\n",
        "  output = []\n",
        "  for i in range(0, NUM_OUTPUTS):\n",
        "    startPos = moves[i][0]\n",
        "    endPos = moves[i][1]\n",
        "    \n",
        "    startMat = np.zeros(64)\n",
        "    endMat = np.zeros(64)\n",
        "    \n",
        "    startMat[startPos] = 1\n",
        "    endMat[endPos] = 1\n",
        "        \n",
        "    output.append(startMat)\n",
        "    output.append(endMat)\n",
        "  \n",
        "  return output\n",
        "\n",
        "def create_training_set(df):\n",
        "  inputs = []\n",
        "  outputs = []\n",
        "\n",
        "  for i in range(len(df)):\n",
        "    pos = df.iloc[i].Position\n",
        "    moves = eval(df.iloc[i].Moves)\n",
        "\n",
        "    board.set_fen(pos)\n",
        "    if i > 0:\n",
        "      inputs = np.append(inputs, create_input(board), axis=0)\n",
        "    else:\n",
        "      inputs = create_input(board)\n",
        "    #outputs.append(create_output(moves))\n",
        "    \n",
        "  for j in range(0, NUM_OUTPUTS):\n",
        "    startOutput = []\n",
        "    endOutput = []\n",
        "    \n",
        "    for k in range(len(df)):\n",
        "      moves = eval(df.iloc[k].Moves)\n",
        "\n",
        "      startPos = moves[j][0]\n",
        "      endPos = moves[j][1]\n",
        "    \n",
        "      startMat = np.zeros(64)\n",
        "      endMat = np.zeros(64)\n",
        "\n",
        "      startMat[startPos] = 1\n",
        "      endMat[endPos] = 1\n",
        "\n",
        "      startOutput.append(startMat)\n",
        "      endOutput.append(endMat)\n",
        "    \n",
        "    outputs.append(startOutput)\n",
        "    outputs.append(endOutput)\n",
        "\n",
        "  return (inputs, outputs)"
      ],
      "execution_count": 0,
      "outputs": []
    },
    {
      "cell_type": "markdown",
      "metadata": {
        "id": "uQ7P_PFH8WdK",
        "colab_type": "text"
      },
      "source": [
        "Input data:\n",
        "\n",
        "  (6 pieces) * 2 players + 1 for turn\n",
        "  \n",
        "  8 rows\n",
        "  \n",
        "  8 columns\n",
        "  \n",
        " => 8 * 8 * 13 = 832\n",
        " \n",
        " \n",
        " Output data:\n",
        " \n",
        " - Assume predicting five moves\n",
        " - initial location, and new location\n",
        " \n",
        " \n",
        "Array of objects/tuples\n",
        "[{initial location, new location},...]\n",
        " \n",
        " \n",
        " => 5 * 2 * 64 = 640\n",
        "  "
      ]
    },
    {
      "cell_type": "code",
      "metadata": {
        "id": "xh4Q_A627s3r",
        "colab_type": "code",
        "outputId": "86ee02e5-e205-4fbd-9c15-c0d94884810c",
        "colab": {
          "base_uri": "https://localhost:8080/",
          "height": 734
        }
      },
      "source": [
        "inp = Input((13,8,8))\n",
        "\n",
        "\n",
        "x = Conv2D(250, kernel_size=3, activation='relu', input_shape=(13,8,8))(inp)\n",
        "\n",
        "x = Conv2D(250, kernel_size=3, activation='relu', input_shape=(13,8,8))(x)\n",
        "\n",
        "x = Conv2D(250, kernel_size=3, activation='relu', input_shape=(13,8,8))(x)\n",
        "\n",
        "\n",
        "x = Flatten()(x)\n",
        "\n",
        "\n",
        "outputs = []\n",
        "\n",
        "for n in range(NUM_OUTPUTS * 2):\n",
        "  outputs.append(Dense(64, activation='softmax')(x))\n",
        "\n",
        "model = Model(inp, outputs)\n",
        "model.compile(optimizer='adam', loss='categorical_crossentropy', metrics=['accuracy']) \n",
        "\n",
        "model.summary()"
      ],
      "execution_count": 3,
      "outputs": [
        {
          "output_type": "stream",
          "text": [
            "WARNING:tensorflow:From /usr/local/lib/python3.6/dist-packages/tensorflow/python/ops/init_ops.py:1251: calling VarianceScaling.__init__ (from tensorflow.python.ops.init_ops) with dtype is deprecated and will be removed in a future version.\n",
            "Instructions for updating:\n",
            "Call initializer instance with the dtype argument instead of passing it to the constructor\n",
            "Model: \"model\"\n",
            "__________________________________________________________________________________________________\n",
            "Layer (type)                    Output Shape         Param #     Connected to                     \n",
            "==================================================================================================\n",
            "input_1 (InputLayer)            [(None, 13, 8, 8)]   0                                            \n",
            "__________________________________________________________________________________________________\n",
            "conv2d (Conv2D)                 (None, 11, 6, 250)   18250       input_1[0][0]                    \n",
            "__________________________________________________________________________________________________\n",
            "conv2d_1 (Conv2D)               (None, 9, 4, 250)    562750      conv2d[0][0]                     \n",
            "__________________________________________________________________________________________________\n",
            "conv2d_2 (Conv2D)               (None, 7, 2, 250)    562750      conv2d_1[0][0]                   \n",
            "__________________________________________________________________________________________________\n",
            "flatten (Flatten)               (None, 3500)         0           conv2d_2[0][0]                   \n",
            "__________________________________________________________________________________________________\n",
            "dense (Dense)                   (None, 64)           224064      flatten[0][0]                    \n",
            "__________________________________________________________________________________________________\n",
            "dense_1 (Dense)                 (None, 64)           224064      flatten[0][0]                    \n",
            "__________________________________________________________________________________________________\n",
            "dense_2 (Dense)                 (None, 64)           224064      flatten[0][0]                    \n",
            "__________________________________________________________________________________________________\n",
            "dense_3 (Dense)                 (None, 64)           224064      flatten[0][0]                    \n",
            "__________________________________________________________________________________________________\n",
            "dense_4 (Dense)                 (None, 64)           224064      flatten[0][0]                    \n",
            "__________________________________________________________________________________________________\n",
            "dense_5 (Dense)                 (None, 64)           224064      flatten[0][0]                    \n",
            "__________________________________________________________________________________________________\n",
            "dense_6 (Dense)                 (None, 64)           224064      flatten[0][0]                    \n",
            "__________________________________________________________________________________________________\n",
            "dense_7 (Dense)                 (None, 64)           224064      flatten[0][0]                    \n",
            "__________________________________________________________________________________________________\n",
            "dense_8 (Dense)                 (None, 64)           224064      flatten[0][0]                    \n",
            "__________________________________________________________________________________________________\n",
            "dense_9 (Dense)                 (None, 64)           224064      flatten[0][0]                    \n",
            "==================================================================================================\n",
            "Total params: 3,384,390\n",
            "Trainable params: 3,384,390\n",
            "Non-trainable params: 0\n",
            "__________________________________________________________________________________________________\n"
          ],
          "name": "stdout"
        }
      ]
    },
    {
      "cell_type": "code",
      "metadata": {
        "id": "Xyl3iUZBFybO",
        "colab_type": "code",
        "outputId": "6be9cc95-6d8b-4293-e2b0-9b00ed6cc1bc",
        "colab": {
          "base_uri": "https://localhost:8080/",
          "height": 34
        }
      },
      "source": [
        "board = chess.Board()\n",
        "\n",
        "y = create_input(board)\n",
        "\n",
        "p = model.predict(y)\n",
        "\n",
        "interpret_pred(p)"
      ],
      "execution_count": 4,
      "outputs": [
        {
          "output_type": "execute_result",
          "data": {
            "text/plain": [
              "[('e4', 'd7'), ('b8', 'c7'), ('f1', 'a8'), ('b4', 'e6'), ('g8', 'g5')]"
            ]
          },
          "metadata": {
            "tags": []
          },
          "execution_count": 4
        }
      ]
    },
    {
      "cell_type": "code",
      "metadata": {
        "id": "clSTqUeBdIEC",
        "colab_type": "code",
        "outputId": "e36e9c33-aa34-4c6e-e466-94f846c3fd80",
        "colab": {
          "base_uri": "https://localhost:8080/",
          "height": 204
        }
      },
      "source": [
        "df=pd.read_csv('drive/My Drive/Chess/train2.csv')\n",
        "\n",
        "df.head()"
      ],
      "execution_count": 5,
      "outputs": [
        {
          "output_type": "execute_result",
          "data": {
            "text/html": [
              "<div>\n",
              "<style scoped>\n",
              "    .dataframe tbody tr th:only-of-type {\n",
              "        vertical-align: middle;\n",
              "    }\n",
              "\n",
              "    .dataframe tbody tr th {\n",
              "        vertical-align: top;\n",
              "    }\n",
              "\n",
              "    .dataframe thead th {\n",
              "        text-align: right;\n",
              "    }\n",
              "</style>\n",
              "<table border=\"1\" class=\"dataframe\">\n",
              "  <thead>\n",
              "    <tr style=\"text-align: right;\">\n",
              "      <th></th>\n",
              "      <th>Position</th>\n",
              "      <th>Moves</th>\n",
              "    </tr>\n",
              "  </thead>\n",
              "  <tbody>\n",
              "    <tr>\n",
              "      <th>0</th>\n",
              "      <td>rnbqkbnr/pppppppp/8/8/8/8/PPPPPPPP/RNBQKBNR w ...</td>\n",
              "      <td>[(4, 28), (4, 28), (4, 28), (4, 28), (4, 28)]</td>\n",
              "    </tr>\n",
              "    <tr>\n",
              "      <th>1</th>\n",
              "      <td>rnbqkbnr/pppppppp/8/8/8/8/PPPPPPPP/RNBQKBNR w ...</td>\n",
              "      <td>[(4, 28), (4, 28), (4, 28), (4, 28), (4, 28)]</td>\n",
              "    </tr>\n",
              "    <tr>\n",
              "      <th>2</th>\n",
              "      <td>rnbqkbnr/pppppppp/8/8/8/8/PPPPPPPP/RNBQKBNR w ...</td>\n",
              "      <td>[(4, 28), (4, 28), (4, 28), (4, 28), (4, 28)]</td>\n",
              "    </tr>\n",
              "    <tr>\n",
              "      <th>3</th>\n",
              "      <td>rnbqkbnr/pppppppp/8/8/8/8/PPPPPPPP/RNBQKBNR w ...</td>\n",
              "      <td>[(4, 28), (4, 28), (4, 28), (4, 28), (4, 28)]</td>\n",
              "    </tr>\n",
              "    <tr>\n",
              "      <th>4</th>\n",
              "      <td>rnbqkbnr/pppppppp/8/8/8/8/PPPPPPPP/RNBQKBNR w ...</td>\n",
              "      <td>[(4, 28), (4, 28), (4, 28), (4, 28), (4, 28)]</td>\n",
              "    </tr>\n",
              "  </tbody>\n",
              "</table>\n",
              "</div>"
            ],
            "text/plain": [
              "                                            Position                                          Moves\n",
              "0  rnbqkbnr/pppppppp/8/8/8/8/PPPPPPPP/RNBQKBNR w ...  [(4, 28), (4, 28), (4, 28), (4, 28), (4, 28)]\n",
              "1  rnbqkbnr/pppppppp/8/8/8/8/PPPPPPPP/RNBQKBNR w ...  [(4, 28), (4, 28), (4, 28), (4, 28), (4, 28)]\n",
              "2  rnbqkbnr/pppppppp/8/8/8/8/PPPPPPPP/RNBQKBNR w ...  [(4, 28), (4, 28), (4, 28), (4, 28), (4, 28)]\n",
              "3  rnbqkbnr/pppppppp/8/8/8/8/PPPPPPPP/RNBQKBNR w ...  [(4, 28), (4, 28), (4, 28), (4, 28), (4, 28)]\n",
              "4  rnbqkbnr/pppppppp/8/8/8/8/PPPPPPPP/RNBQKBNR w ...  [(4, 28), (4, 28), (4, 28), (4, 28), (4, 28)]"
            ]
          },
          "metadata": {
            "tags": []
          },
          "execution_count": 5
        }
      ]
    },
    {
      "cell_type": "code",
      "metadata": {
        "id": "fhuBIcsS5_At",
        "colab_type": "code",
        "outputId": "44362099-b789-45ea-cc7e-5ea22f78273d",
        "colab": {
          "base_uri": "https://localhost:8080/",
          "height": 224
        }
      },
      "source": [
        "df = df[:1000] # Set an initial limit\n",
        "\n",
        "SPLIT_SIZE = 1000\n",
        "NUM_CHUNKS = len(df)/SPLIT_SIZE\n",
        "\n",
        "i = 1\n",
        "for chunk in np.array_split(df, NUM_CHUNKS):\n",
        "  inputs, outputs = create_training_set(chunk)\n",
        "  model.fit(inputs, outputs, epochs=5)\n",
        "  print('Model fit for ' + str(i * SPLIT_SIZE) + 'training samples.')\n",
        "  i = i + 1"
      ],
      "execution_count": 6,
      "outputs": [
        {
          "output_type": "stream",
          "text": [
            "Epoch 1/5\n",
            "1000/1000 [==============================] - 2s 2ms/sample - loss: 5.2222 - dense_loss: 0.5258 - dense_1_loss: 0.5177 - dense_2_loss: 0.5090 - dense_3_loss: 0.5130 - dense_4_loss: 0.5080 - dense_5_loss: 0.5072 - dense_6_loss: 0.5104 - dense_7_loss: 0.5041 - dense_8_loss: 0.5050 - dense_9_loss: 0.4995 - dense_acc: 0.9680 - dense_1_acc: 0.9680 - dense_2_acc: 0.9680 - dense_3_acc: 0.9680 - dense_4_acc: 0.9680 - dense_5_acc: 0.9680 - dense_6_acc: 0.9680 - dense_7_acc: 0.9680 - dense_8_acc: 0.9680 - dense_9_acc: 0.9680\n",
            "Epoch 2/5\n",
            "1000/1000 [==============================] - 1s 805us/sample - loss: 0.0000e+00 - dense_loss: 0.0000e+00 - dense_1_loss: 0.0000e+00 - dense_2_loss: 0.0000e+00 - dense_3_loss: 0.0000e+00 - dense_4_loss: 0.0000e+00 - dense_5_loss: 0.0000e+00 - dense_6_loss: 0.0000e+00 - dense_7_loss: 0.0000e+00 - dense_8_loss: 0.0000e+00 - dense_9_loss: 0.0000e+00 - dense_acc: 1.0000 - dense_1_acc: 1.0000 - dense_2_acc: 1.0000 - dense_3_acc: 1.0000 - dense_4_acc: 1.0000 - dense_5_acc: 1.0000 - dense_6_acc: 1.0000 - dense_7_acc: 1.0000 - dense_8_acc: 1.0000 - dense_9_acc: 1.0000\n",
            "Epoch 3/5\n",
            "1000/1000 [==============================] - 1s 821us/sample - loss: 0.0000e+00 - dense_loss: 0.0000e+00 - dense_1_loss: 0.0000e+00 - dense_2_loss: 0.0000e+00 - dense_3_loss: 0.0000e+00 - dense_4_loss: 0.0000e+00 - dense_5_loss: 0.0000e+00 - dense_6_loss: 0.0000e+00 - dense_7_loss: 0.0000e+00 - dense_8_loss: 0.0000e+00 - dense_9_loss: 0.0000e+00 - dense_acc: 1.0000 - dense_1_acc: 1.0000 - dense_2_acc: 1.0000 - dense_3_acc: 1.0000 - dense_4_acc: 1.0000 - dense_5_acc: 1.0000 - dense_6_acc: 1.0000 - dense_7_acc: 1.0000 - dense_8_acc: 1.0000 - dense_9_acc: 1.0000\n",
            "Epoch 4/5\n",
            "1000/1000 [==============================] - 1s 817us/sample - loss: 0.0000e+00 - dense_loss: 0.0000e+00 - dense_1_loss: 0.0000e+00 - dense_2_loss: 0.0000e+00 - dense_3_loss: 0.0000e+00 - dense_4_loss: 0.0000e+00 - dense_5_loss: 0.0000e+00 - dense_6_loss: 0.0000e+00 - dense_7_loss: 0.0000e+00 - dense_8_loss: 0.0000e+00 - dense_9_loss: 0.0000e+00 - dense_acc: 1.0000 - dense_1_acc: 1.0000 - dense_2_acc: 1.0000 - dense_3_acc: 1.0000 - dense_4_acc: 1.0000 - dense_5_acc: 1.0000 - dense_6_acc: 1.0000 - dense_7_acc: 1.0000 - dense_8_acc: 1.0000 - dense_9_acc: 1.0000\n",
            "Epoch 5/5\n",
            "1000/1000 [==============================] - 1s 826us/sample - loss: 0.0000e+00 - dense_loss: 0.0000e+00 - dense_1_loss: 0.0000e+00 - dense_2_loss: 0.0000e+00 - dense_3_loss: 0.0000e+00 - dense_4_loss: 0.0000e+00 - dense_5_loss: 0.0000e+00 - dense_6_loss: 0.0000e+00 - dense_7_loss: 0.0000e+00 - dense_8_loss: 0.0000e+00 - dense_9_loss: 0.0000e+00 - dense_acc: 1.0000 - dense_1_acc: 1.0000 - dense_2_acc: 1.0000 - dense_3_acc: 1.0000 - dense_4_acc: 1.0000 - dense_5_acc: 1.0000 - dense_6_acc: 1.0000 - dense_7_acc: 1.0000 - dense_8_acc: 1.0000 - dense_9_acc: 1.0000\n",
            "Model fit for 1000training samples.\n"
          ],
          "name": "stdout"
        }
      ]
    },
    {
      "cell_type": "code",
      "metadata": {
        "id": "s7sfd04t7xDd",
        "colab_type": "code",
        "outputId": "2fee7f02-27bd-4a0b-f4e2-ae1ac587b43a",
        "colab": {
          "base_uri": "https://localhost:8080/",
          "height": 34
        }
      },
      "source": [
        "board = chess.Board()\n",
        "\n",
        "y = create_input(board)\n",
        "\n",
        "p = model.predict(y)\n",
        "\n",
        "interpret_pred(p)"
      ],
      "execution_count": 7,
      "outputs": [
        {
          "output_type": "execute_result",
          "data": {
            "text/plain": [
              "[('e1', 'e4'), ('e1', 'e4'), ('e1', 'e4'), ('e1', 'e4'), ('e1', 'e4')]"
            ]
          },
          "metadata": {
            "tags": []
          },
          "execution_count": 7
        }
      ]
    },
    {
      "cell_type": "markdown",
      "metadata": {
        "colab_type": "text",
        "id": "1ks1-8qRCqio"
      },
      "source": [
        ""
      ]
    },
    {
      "cell_type": "code",
      "metadata": {
        "id": "HHMHOjYu42kH",
        "colab_type": "code",
        "colab": {}
      },
      "source": [
        "## Save Model\n",
        "# model.save('./drive/My Drive/Chess/simple_cnn.h5')\n",
        "\n",
        "## Load Model\n",
        "# model = load_model('./drive/My Drive/Chess/simple_cnn.h5')"
      ],
      "execution_count": 0,
      "outputs": []
    },
    {
      "cell_type": "code",
      "metadata": {
        "id": "eNr96O5T48B-",
        "colab_type": "code",
        "colab": {}
      },
      "source": [
        "# p2 = odel.predict(y)\n",
        "# interpret_pred(p2)"
      ],
      "execution_count": 0,
      "outputs": []
    }
  ]
}